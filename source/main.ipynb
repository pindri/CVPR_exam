{
 "cells": [
  {
   "cell_type": "code",
   "execution_count": null,
   "metadata": {},
   "outputs": [],
   "source": [
    "# Adds SIFT and SURF functionalities.\n",
    "import sys\n",
    "sys.path.append(\"/usr/local/lib/python3.8/site-packages/\")"
   ]
  },
  {
   "cell_type": "code",
   "execution_count": null,
   "metadata": {},
   "outputs": [],
   "source": [
    "import pandas as pd\n",
    "import cv2\n",
    "import matplotlib.pyplot as plt\n",
    "import numpy as np\n",
    "import numpy.linalg as lin"
   ]
  },
  {
   "cell_type": "code",
   "execution_count": null,
   "metadata": {},
   "outputs": [],
   "source": [
    "import utils        # Utility to measure code execution\n",
    "                    # and plot confusion matrices.\n",
    "import vocabulary   # Read images and produce visual vocabulary.\n",
    "import classifiers  # Implements different classifiers."
   ]
  },
  {
   "cell_type": "code",
   "execution_count": null,
   "metadata": {
    "scrolled": true
   },
   "outputs": [],
   "source": [
    "# Reload modules without reloading the kernel.\n",
    "import importlib\n",
    "importlib.reload(vocabulary)"
   ]
  },
  {
   "cell_type": "markdown",
   "metadata": {},
   "source": [
    "---"
   ]
  },
  {
   "cell_type": "markdown",
   "metadata": {},
   "source": [
    "# Main"
   ]
  },
  {
   "cell_type": "markdown",
   "metadata": {},
   "source": [
    "Expected execution times refer to `n_clusters = 96`."
   ]
  },
  {
   "cell_type": "markdown",
   "metadata": {},
   "source": [
    "## 1. and 2.: reading images, computing visual words and histograms"
   ]
  },
  {
   "cell_type": "code",
   "execution_count": null,
   "metadata": {},
   "outputs": [],
   "source": [
    "train_path = \"../dataset/train\"\n",
    "test_path = \"../dataset/test\"\n",
    "\n",
    "n_clusters = 48 # Size of dictionary.\n",
    "n_descriptors = 100000"
   ]
  },
  {
   "cell_type": "markdown",
   "metadata": {},
   "source": [
    "Expect ~ 16 minutes for the following cell."
   ]
  },
  {
   "cell_type": "code",
   "execution_count": null,
   "metadata": {},
   "outputs": [],
   "source": [
    "with utils.codeTimer(\"Build train set\"):\n",
    "    \n",
    "    # Read images and compute descriptors, saving them in a dataframe.\n",
    "    train_df = vocabulary.compute_descriptors(train_path)\n",
    "    \n",
    "    print(\"Total number of {}-dimensional descriptors: {}\"\n",
    "          .format(len(train_df['descriptor'][0]), len(train_df)))\n",
    "\n",
    "    # Compute kmeans clustering using descriptors to obtain visual dictionary.\n",
    "\n",
    "    # Note: cluster centers are stored in this object,\n",
    "    # and can be obtained using `kmeans.cluster_centers_`.\n",
    "    kmeans = vocabulary.k_means_words(train_df, n_clusters, n_descriptors)\n",
    "    \n",
    "    # Aggregate descriptor info, making dataframe more compact.\n",
    "    # Now the third column contains the list of descriptors.\n",
    "    train_df = train_df.groupby(['image_id', 'label'],\n",
    "                                as_index = False).agg({'descriptor':\n",
    "                                                       (lambda x: list(x))})\n",
    "\n",
    "    # Compute histograms and add them to dataframe.\n",
    "    train_histograms = vocabulary.compute_histogram(train_df, kmeans)\n",
    "    train_df['histogram'] = train_histograms"
   ]
  },
  {
   "cell_type": "markdown",
   "metadata": {},
   "source": [
    "Expect ~ 23 minutes for the following cell."
   ]
  },
  {
   "cell_type": "code",
   "execution_count": null,
   "metadata": {},
   "outputs": [],
   "source": [
    "# Perform analogous operations to compute histograms for test set,\n",
    "# using words extracted from train.\n",
    "\n",
    "with utils.codeTimer(\"Build test set\"):\n",
    "\n",
    "    test_df = vocabulary.compute_descriptors(test_path)\n",
    "\n",
    "    test_df = test_df.groupby(['image_id', 'label'],\n",
    "                                as_index = False).agg({'descriptor':\n",
    "                                                       (lambda x: list(x))})\n",
    "\n",
    "    # Note, kmeans has not been recomputed, the training one is used.\n",
    "    test_histograms = vocabulary.compute_histogram(test_df, kmeans)\n",
    "    test_df['histogram'] = test_histograms"
   ]
  },
  {
   "cell_type": "markdown",
   "metadata": {},
   "source": [
    "----"
   ]
  },
  {
   "cell_type": "markdown",
   "metadata": {},
   "source": [
    "## 3.: Nearest Neighbor classifier"
   ]
  },
  {
   "cell_type": "markdown",
   "metadata": {},
   "source": [
    "Expect ~ 15 minutes for the following cell."
   ]
  },
  {
   "cell_type": "code",
   "execution_count": null,
   "metadata": {},
   "outputs": [],
   "source": [
    "with utils.codeTimer(\"NN classifier\"):\n",
    "    true, predicted = classifiers.nn_classifier(train_df, test_df)\n",
    "    \n",
    "# Adding predicted lables to dataframe.\n",
    "test_df[\"predicted\"] = predicted"
   ]
  },
  {
   "cell_type": "code",
   "execution_count": null,
   "metadata": {},
   "outputs": [],
   "source": [
    "utils.plot_confusion_matrix(true, predicted,\n",
    "                            title = \"Confusion matrix: NN classifier\",\n",
    "                            filename = \"nn.pdf\")"
   ]
  },
  {
   "cell_type": "markdown",
   "metadata": {},
   "source": [
    "----"
   ]
  },
  {
   "cell_type": "markdown",
   "metadata": {},
   "source": [
    "## 4. and 5.: linear SVM"
   ]
  },
  {
   "cell_type": "code",
   "execution_count": null,
   "metadata": {},
   "outputs": [],
   "source": [
    "with utils.codeTimer(\"Linear SVM classifier\"):\n",
    "    true, predicted = classifiers.linear_SVM_classifier(train_df, test_df)\n",
    "    \n",
    "# Adding predicted lables to dataframe.\n",
    "test_df[\"predicted\"] = predicted"
   ]
  },
  {
   "cell_type": "code",
   "execution_count": null,
   "metadata": {},
   "outputs": [],
   "source": [
    "utils.plot_confusion_matrix(true, predicted,\n",
    "                            title = \"Confusion matrix: linear SVM\",\n",
    "                            filename = \"linsvm.pdf\")"
   ]
  },
  {
   "cell_type": "markdown",
   "metadata": {},
   "source": [
    "----"
   ]
  },
  {
   "cell_type": "markdown",
   "metadata": {},
   "source": [
    "## (optional) 6. and 7.: Gaussian SVM"
   ]
  },
  {
   "cell_type": "markdown",
   "metadata": {},
   "source": [
    "Expect ~ 15 minutes for the following cell."
   ]
  },
  {
   "cell_type": "code",
   "execution_count": null,
   "metadata": {},
   "outputs": [],
   "source": [
    "with utils.codeTimer(\"Gaussian SVM classifier, chi squared distance\"):\n",
    "    true, predicted = classifiers.gaussian_SVM_classifier(train_df, test_df,\n",
    "                                                          dist = 'chi')\n",
    "    \n",
    "# Adding predicted lables to dataframe.\n",
    "test_df[\"predicted\"] = predicted"
   ]
  },
  {
   "cell_type": "code",
   "execution_count": null,
   "metadata": {
    "scrolled": false
   },
   "outputs": [],
   "source": [
    "utils.plot_confusion_matrix(true, predicted,\n",
    "                            title = r\"Confusion matrix: $\\mathbf{\\chi^2}$ gaussian kernel SVM\",\n",
    "                            filename = \"gaussvm.pdf\")"
   ]
  },
  {
   "cell_type": "markdown",
   "metadata": {},
   "source": [
    "----"
   ]
  },
  {
   "cell_type": "markdown",
   "metadata": {},
   "source": [
    "## (optional) 8.: Error Correcting Output Code"
   ]
  },
  {
   "cell_type": "code",
   "execution_count": null,
   "metadata": {},
   "outputs": [],
   "source": [
    "with utils.codeTimer(\"ECOC SVM classifier\"):\n",
    "    true, predicted = classifiers.ecoc_classifier(train_df, test_df,\n",
    "                                                  n_classifiers = 100)\n",
    "    \n",
    "# Adding predicted lables to dataframe.\n",
    "test_df[\"predicted\"] = predicted"
   ]
  },
  {
   "cell_type": "code",
   "execution_count": null,
   "metadata": {
    "scrolled": false
   },
   "outputs": [],
   "source": [
    "utils.plot_confusion_matrix(true, predicted,\n",
    "                            title = \"Confusion matrix: ECOC\",\n",
    "                            filename = \"ecoc.pdf\")"
   ]
  },
  {
   "cell_type": "markdown",
   "metadata": {},
   "source": [
    "##### Accuracy against number of binary classifiers."
   ]
  },
  {
   "cell_type": "code",
   "execution_count": null,
   "metadata": {
    "scrolled": true
   },
   "outputs": [],
   "source": [
    "# Test accuracy using a different number of classifiers.\n",
    "\n",
    "accuracy = []\n",
    "num_classifiers = np.arange(25, 225, 25)\n",
    "\n",
    "for n in num_classifiers:\n",
    "    true, predicted = classifiers.ecoc_classifier(train_df, test_df,\n",
    "                                                  n_classifiers = n)\n",
    "    # Adding predicted lables to dataframe.\n",
    "    test_df[\"predicted\"] = predicted\n",
    "    \n",
    "    a = utils.plot_confusion_matrix(true, predicted,\n",
    "                                    title = \"Confusion matrix: ECOC\",\n",
    "                                    filename = \"ecoc.pdf\")\n",
    "    accuracy.append(a)"
   ]
  },
  {
   "cell_type": "code",
   "execution_count": null,
   "metadata": {},
   "outputs": [],
   "source": [
    "# Plot the result.\n",
    "\n",
    "fig, ax = plt.subplots()\n",
    "\n",
    "ax.plot(num_classifiers, accuracy, color = \"gray\")\n",
    "\n",
    "# Ranges.\n",
    "ax.set_xlim(10, 200)\n",
    "\n",
    "# Labels.\n",
    "ax.xaxis.set_ticks(num_classifiers)\n",
    "\n",
    "# Axis and titles.\n",
    "ax.set_xlabel(\"Number of classifiers\", fontweight = 'bold')\n",
    "ax.set_ylabel(\"Accuracy\", fontweight = 'bold')\n",
    "ax.set_title(\"ECOC: accuracy vs number of classifiers\", fontweight = 'bold')\n",
    "\n",
    "# Save to disk.\n",
    "fig.savefig(\"ecocb.pdf\", bbox_inches = 'tight')\n",
    "\n",
    "plt.show()"
   ]
  },
  {
   "cell_type": "markdown",
   "metadata": {},
   "source": [
    "----"
   ]
  },
  {
   "cell_type": "markdown",
   "metadata": {},
   "source": [
    "## (optional) 9.: Soft assignment"
   ]
  },
  {
   "cell_type": "markdown",
   "metadata": {},
   "source": [
    "Expect ~ 50 minutes for the following cell."
   ]
  },
  {
   "cell_type": "code",
   "execution_count": null,
   "metadata": {
    "scrolled": true
   },
   "outputs": [],
   "source": [
    "# NOTE: this cell will overwrite the 'hard'-assigned histograms\n",
    "# with the newly computed soft assignment ones.\n",
    "\n",
    "with utils.codeTimer(\"Soft assignment histograms\"):\n",
    "    train_histograms = vocabulary.compute_kernel_codebook(train_df, kmeans)\n",
    "    train_df['histogram'] = train_histograms\n",
    "    \n",
    "    test_histograms = vocabulary.compute_kernel_codebook(test_df, kmeans)\n",
    "    test_df['histogram'] = test_histograms\n"
   ]
  },
  {
   "cell_type": "markdown",
   "metadata": {},
   "source": [
    "Expect ~ minutes for the following cell."
   ]
  },
  {
   "cell_type": "code",
   "execution_count": null,
   "metadata": {},
   "outputs": [],
   "source": [
    "with utils.codeTimer(\"Gaussian SVM classifier, chi squared distance\"):\n",
    "    true, predicted = classifiers.gaussian_SVM_classifier(train_df, test_df,\n",
    "                                                          dist = 'chi')\n",
    "    \n",
    "# Adding predicted lables to dataframe.\n",
    "test_df[\"predicted\"] = predicted"
   ]
  },
  {
   "cell_type": "code",
   "execution_count": null,
   "metadata": {},
   "outputs": [],
   "source": [
    "utils.plot_confusion_matrix(true, predicted,\n",
    "                            title = r\"Confusion matrix: $\\mathbf{\\chi^2}$ gaussian kernel SVM - SA\",\n",
    "                            filename = \"soft.pdf\")"
   ]
  },
  {
   "cell_type": "code",
   "execution_count": null,
   "metadata": {},
   "outputs": [],
   "source": []
  }
 ],
 "metadata": {
  "kernelspec": {
   "display_name": "Python 3",
   "language": "python",
   "name": "python3"
  },
  "language_info": {
   "codemirror_mode": {
    "name": "ipython",
    "version": 3
   },
   "file_extension": ".py",
   "mimetype": "text/x-python",
   "name": "python",
   "nbconvert_exporter": "python",
   "pygments_lexer": "ipython3",
   "version": "3.8.1"
  }
 },
 "nbformat": 4,
 "nbformat_minor": 4
}
