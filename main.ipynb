{
 "cells": [
  {
   "cell_type": "code",
   "execution_count": null,
   "metadata": {},
   "outputs": [],
   "source": [
    "# Adds SIFT and SURF functionalities.\n",
    "import sys\n",
    "sys.path.append(\"/usr/local/lib/python3.7/site-packages/\")"
   ]
  },
  {
   "cell_type": "code",
   "execution_count": null,
   "metadata": {},
   "outputs": [],
   "source": [
    "import pandas as pd\n",
    "import cv2\n",
    "import matplotlib.pyplot as plt\n",
    "import numpy as np\n",
    "import numpy.linalg as lin"
   ]
  },
  {
   "cell_type": "code",
   "execution_count": null,
   "metadata": {},
   "outputs": [],
   "source": [
    "import utils        # Utility to measure code execution\n",
    "                    # and plot confusion matrices.\n",
    "import vocabulary   # Read images and produce visual vocabulary.\n",
    "import classifiers  # Implements different classifiers."
   ]
  },
  {
   "cell_type": "code",
   "execution_count": null,
   "metadata": {},
   "outputs": [],
   "source": [
    "# Reload modules without reloading the kernel.\n",
    "import importlib\n",
    "importlib.reload(classifiers)"
   ]
  },
  {
   "cell_type": "code",
   "execution_count": null,
   "metadata": {},
   "outputs": [],
   "source": [
    "help(vocabulary.k_means_words)"
   ]
  },
  {
   "cell_type": "markdown",
   "metadata": {},
   "source": [
    "---"
   ]
  },
  {
   "cell_type": "markdown",
   "metadata": {},
   "source": [
    "# Main"
   ]
  },
  {
   "cell_type": "markdown",
   "metadata": {},
   "source": [
    "## 1. and 2.: reading images, computing visual words and histograms"
   ]
  },
  {
   "cell_type": "code",
   "execution_count": null,
   "metadata": {},
   "outputs": [],
   "source": [
    "train_path = \"./dataset/train\"\n",
    "test_path = \"./dataset/test\"\n",
    "\n",
    "n_clusters = 100 # Size of dictionary.\n",
    "n_descriptors = 100000"
   ]
  },
  {
   "cell_type": "code",
   "execution_count": null,
   "metadata": {},
   "outputs": [],
   "source": [
    "with utils.codeTimer(\"Build train set\"):\n",
    "    \n",
    "    # Read images and compute descriptors, saving them in a dataframe.\n",
    "    train_df = vocabulary.compute_descriptors(train_path)\n",
    "    \n",
    "    print(\"Total number of {}-dimensional descriptors: {}\"\n",
    "          .format(len(train_df['descriptor'][0]), len(train_df)))\n",
    "\n",
    "    # Compute kmeans clustering using descriptors to obtain visual dictionary.\n",
    "\n",
    "    # Note: cluster centers are stored in this object,\n",
    "    # and can be obtained using `kmeans.cluster_centers_`.\n",
    "    kmeans = vocabulary.k_means_words(train_df, n_clusters, n_descriptors)\n",
    "    \n",
    "    # Aggregate descriptor info, making dataframe more compact.\n",
    "    # Now the third column contains the list of descriptors.\n",
    "    train_df = train_df.groupby(['image_id', 'label'],\n",
    "                                as_index = False).agg({'descriptor':\n",
    "                                                       (lambda x: list(x))})\n",
    "\n",
    "    # Compute histograms and add them to dataframe.\n",
    "    train_histograms = vocabulary.compute_histogram(train_df, kmeans)\n",
    "    train_df['histogram'] = train_histograms"
   ]
  },
  {
   "cell_type": "code",
   "execution_count": null,
   "metadata": {},
   "outputs": [],
   "source": [
    "# Perform analogous operations to compute histograms for test set,\n",
    "# using words extracted from train.\n",
    "\n",
    "with utils.codeTimer(\"Build test set\"):\n",
    "\n",
    "    test_df = vocabulary.compute_descriptors(test_path)\n",
    "\n",
    "    test_df = test_df.groupby(['image_id', 'label'],\n",
    "                                as_index = False).agg({'descriptor':\n",
    "                                                       (lambda x: list(x))})\n",
    "\n",
    "    # Note, kmeans has not been recomputed, the training one is used.\n",
    "    test_histograms = vocabulary.compute_histogram(test_df, kmeans)\n",
    "    test_df['histogram'] = test_histograms"
   ]
  },
  {
   "cell_type": "markdown",
   "metadata": {},
   "source": [
    "----"
   ]
  },
  {
   "cell_type": "markdown",
   "metadata": {},
   "source": [
    "## 3.: Nearest Neighbor classifier"
   ]
  },
  {
   "cell_type": "code",
   "execution_count": null,
   "metadata": {},
   "outputs": [],
   "source": [
    "with utils.codeTimer(\"NN classifier\"):\n",
    "    true, predicted = nn_classifier(train_df, test_df)\n",
    "    \n",
    "# Adding predicted lables to dataframe.\n",
    "test_df[\"predicted\"] = predicted"
   ]
  },
  {
   "cell_type": "code",
   "execution_count": null,
   "metadata": {},
   "outputs": [],
   "source": [
    "utils.plot_confusion_matrix(true, predicted,\n",
    "                            title = \"Confusion matrix: NN classifier\")"
   ]
  },
  {
   "cell_type": "markdown",
   "metadata": {},
   "source": [
    "----"
   ]
  },
  {
   "cell_type": "markdown",
   "metadata": {},
   "source": [
    "## 4. and 5.: linear SVM"
   ]
  },
  {
   "cell_type": "code",
   "execution_count": null,
   "metadata": {},
   "outputs": [],
   "source": [
    "with utils.codeTimer(\"Linear SVM classifier\"):\n",
    "    true, predicted = classifiers.linear_SVM_classifier(train_df, test_df)\n",
    "    \n",
    "# Adding predicted lables to dataframe.\n",
    "test_df[\"predicted\"] = predicted"
   ]
  },
  {
   "cell_type": "code",
   "execution_count": null,
   "metadata": {},
   "outputs": [],
   "source": [
    "utils.plot_confusion_matrix(true, predicted,\n",
    "                            title = \"Confusion matrix: linear SVM\")"
   ]
  },
  {
   "cell_type": "markdown",
   "metadata": {},
   "source": [
    "----"
   ]
  },
  {
   "cell_type": "markdown",
   "metadata": {},
   "source": [
    "## 6. and 7.: Gaussian SVM"
   ]
  },
  {
   "cell_type": "code",
   "execution_count": null,
   "metadata": {},
   "outputs": [],
   "source": [
    "with utils.codeTimer(\"Gaussian SVM classifier, chi squared distance\"):\n",
    "    true, predicted = classifiers.gaussian_SVM_classifier(train_df, test_df,\n",
    "                                                          dist = 'chi')\n",
    "    \n",
    "# Adding predicted lables to dataframe.\n",
    "test_df[\"predicted\"] = predicted"
   ]
  },
  {
   "cell_type": "code",
   "execution_count": null,
   "metadata": {},
   "outputs": [],
   "source": [
    "utils.plot_confusion_matrix(true, predicted,\n",
    "                            title = \"Confusion matrix: gaussian kernel SVM\")"
   ]
  },
  {
   "cell_type": "code",
   "execution_count": null,
   "metadata": {},
   "outputs": [],
   "source": [
    "with utils.codeTimer(\"Gaussian SVM classifier, earth mover distance\"):\n",
    "    true, predicted = classifiers.gaussian_SVM_classifier(train_df, test_df,\n",
    "                                                          dist = 'emd')\n",
    "    \n",
    "# Adding predicted lables to dataframe.\n",
    "test_df[\"predicted\"] = predicted"
   ]
  },
  {
   "cell_type": "code",
   "execution_count": null,
   "metadata": {},
   "outputs": [],
   "source": [
    "utils.plot_confusion_matrix(true, predicted,\n",
    "                            title = \"Confusion matrix: gaussian kernel SVM\")"
   ]
  },
  {
   "cell_type": "markdown",
   "metadata": {},
   "source": [
    "----"
   ]
  },
  {
   "cell_type": "markdown",
   "metadata": {},
   "source": [
    "## 8.: Error Correcting Output Code"
   ]
  },
  {
   "cell_type": "code",
   "execution_count": null,
   "metadata": {},
   "outputs": [],
   "source": [
    "with utils.codeTimer(\"ECOC SVM classifier\"):\n",
    "    true, predicted = classifiers.ecoc_classifier(train_df, test_df,\n",
    "                                                  n_classifiers = 100)\n",
    "    \n",
    "# Adding predicted lables to dataframe.\n",
    "test_df[\"predicted\"] = predicted"
   ]
  },
  {
   "cell_type": "code",
   "execution_count": null,
   "metadata": {},
   "outputs": [],
   "source": [
    "utils.plot_confusion_matrix(true, predicted,\n",
    "                            title = \"Confusion matrix: ECOC\")"
   ]
  },
  {
   "cell_type": "markdown",
   "metadata": {},
   "source": [
    "----"
   ]
  }
 ],
 "metadata": {
  "kernelspec": {
   "display_name": "Python 3",
   "language": "python",
   "name": "python3"
  },
  "language_info": {
   "codemirror_mode": {
    "name": "ipython",
    "version": 3
   },
   "file_extension": ".py",
   "mimetype": "text/x-python",
   "name": "python",
   "nbconvert_exporter": "python",
   "pygments_lexer": "ipython3",
   "version": "3.7.4"
  }
 },
 "nbformat": 4,
 "nbformat_minor": 4
}
