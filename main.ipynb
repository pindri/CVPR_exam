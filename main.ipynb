{
 "cells": [
  {
   "cell_type": "code",
   "execution_count": null,
   "metadata": {},
   "outputs": [],
   "source": [
    "from pathlib import Path\n",
    "import os\n",
    "import pandas as pd\n",
    "import cv2\n",
    "from sklearn.cluster import KMeans\n",
    "import matplotlib.pyplot as plt"
   ]
  },
  {
   "cell_type": "code",
   "execution_count": null,
   "metadata": {},
   "outputs": [],
   "source": [
    "# Read image and directory (image category)\n",
    "\n",
    "def read_image(dir_path):\n",
    "    \"\"\"\n",
    "    TBD iterator\n",
    "    \"\"\"\n",
    "    \n",
    "    for subdir, dirs, files in os.walk(dir_path):\n",
    "        for file in files:\n",
    "            # Ignore useless files.\n",
    "            if file != \".DS_Store\":\n",
    "                yield (cv2.imread(os.path.join(subdir, file)),\n",
    "                       os.path.basename(subdir))\n",
    "                \n",
    "\n",
    "def compute_descriptors(dir_path):\n",
    "    \"\"\"\n",
    "    TBD, note on ORB instead of SIFT/SURF\n",
    "    \"\"\"\n",
    "    \n",
    "    # Lists to contain data.\n",
    "    image_ids = []\n",
    "    descriptors = []\n",
    "    labels = []\n",
    "    \n",
    "    # Build ORB object.\n",
    "    orb = cv2.ORB_create()\n",
    "    \n",
    "    image_id = 0\n",
    "    \n",
    "    for image, label in read_image(dir_path):\n",
    "        # Detect and compute keypoints.\n",
    "        kp, des = orb.detectAndCompute(image, None)\n",
    "        # If no keypoints detected, continue.\n",
    "        if kp == []:\n",
    "            continue\n",
    "        for d in range(len(des)):\n",
    "            descriptors.append(des[d])\n",
    "            image_ids.append(image_id)\n",
    "            labels.append(label)\n",
    "            \n",
    "        image_id += 1\n",
    "            \n",
    "    des_df = pd.DataFrame(columns = ['image_id', 'descriptor', 'label'])\n",
    "    des_df['image_id'] = image_ids\n",
    "    des_df['descriptor'] = descriptors\n",
    "    des_df['label'] = labels\n",
    "    \n",
    "    \n",
    "    return des_df"
   ]
  },
  {
   "cell_type": "code",
   "execution_count": null,
   "metadata": {},
   "outputs": [],
   "source": [
    "def k_means_words(descriptors_df, n_clusters, num_descriptors):\n",
    "    \"\"\"\n",
    "    TBD\n",
    "    \"\"\"\n",
    "    \n",
    "    # Sample `num_descriptors` descriptors.\n",
    "    data = descriptors_df['descriptor'].sample(n = num_descriptors).tolist()\n",
    "    # Compute the kmeans algorithm on the sampled descriptors.\n",
    "    kmeans = KMeans(n_clusters = n_clusters, n_jobs = -1).fit(data)\n",
    "    return kmeans"
   ]
  },
  {
   "cell_type": "code",
   "execution_count": null,
   "metadata": {},
   "outputs": [],
   "source": [
    "train_path = \"./dataset/train\"\n",
    "test_path = \"./dataset/test\"\n",
    "\n",
    "n_clusters = 50\n",
    "n_descriptors = 100000\n",
    "\n",
    "# Read images and compute descriptors, saving them in a dataframe.\n",
    "des_df = compute_descriptors(train_path)\n",
    "# Compute kmeans clustering using descriptors\n",
    "# Note: cluster centers can be obtained using `kmeans.cluster_centers_`.\n",
    "kmeans = k_means_words(des_df, n_clusters, n_descriptors)"
   ]
  },
  {
   "cell_type": "code",
   "execution_count": null,
   "metadata": {},
   "outputs": [],
   "source": [
    "img = cv2.imread(\"./dataset/train/Coast/image_0231.jpg\")\n",
    "orb = cv2.ORB_create()\n",
    "kp = orb.detect(img,None)\n",
    "kp, des = orb.compute(img, kp)\n",
    "img2 = cv2.drawKeypoints(img,kp,img)\n",
    "plt.imshow(img2),plt.show()"
   ]
  },
  {
   "cell_type": "code",
   "execution_count": null,
   "metadata": {},
   "outputs": [],
   "source": []
  },
  {
   "cell_type": "code",
   "execution_count": null,
   "metadata": {},
   "outputs": [],
   "source": []
  }
 ],
 "metadata": {
  "kernelspec": {
   "display_name": "Python 3",
   "language": "python",
   "name": "python3"
  },
  "language_info": {
   "codemirror_mode": {
    "name": "ipython",
    "version": 3
   },
   "file_extension": ".py",
   "mimetype": "text/x-python",
   "name": "python",
   "nbconvert_exporter": "python",
   "pygments_lexer": "ipython3",
   "version": "3.7.3"
  }
 },
 "nbformat": 4,
 "nbformat_minor": 4
}
