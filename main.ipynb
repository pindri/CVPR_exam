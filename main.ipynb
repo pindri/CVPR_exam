{
 "cells": [
  {
   "cell_type": "code",
   "execution_count": 1,
   "metadata": {},
   "outputs": [],
   "source": [
    "# Adds SIFT and SURF functionalities.\n",
    "import sys\n",
    "sys.path.append(\"/usr/local/lib/python3.7/site-packages/\")"
   ]
  },
  {
   "cell_type": "code",
   "execution_count": 2,
   "metadata": {
    "scrolled": false
   },
   "outputs": [],
   "source": [
    "from pathlib import Path\n",
    "import os\n",
    "import pandas as pd\n",
    "import cv2\n",
    "from sklearn.cluster import KMeans\n",
    "import matplotlib.pyplot as plt\n",
    "import numpy as np\n",
    "import numpy.linalg as lin"
   ]
  },
  {
   "cell_type": "markdown",
   "metadata": {},
   "source": [
    "# Utilities"
   ]
  },
  {
   "cell_type": "code",
   "execution_count": 3,
   "metadata": {},
   "outputs": [],
   "source": [
    "import time\n",
    "\n",
    "class codeTimer:\n",
    "    \"\"\"\n",
    "    Context manager, measures and prints the execution time of a function.\n",
    "    \"\"\"\n",
    "    \n",
    "    def __init__(self, name=None):\n",
    "        self.name = \"Executed '\"  + name + \"'. \" if name else \"\"\n",
    "\n",
    "    def __enter__(self):\n",
    "        self.start = time.perf_counter()\n",
    "\n",
    "    def __exit__(self, exc_type, exc_value, traceback):\n",
    "        self.end = time.perf_counter()\n",
    "        self.elapsed = (self.end - self.start)\n",
    "        print('%s Elapsed time: %0.6fs' % (str(self.name), self.elapsed))"
   ]
  },
  {
   "cell_type": "markdown",
   "metadata": {},
   "source": [
    "# Read and compute descriptors"
   ]
  },
  {
   "cell_type": "code",
   "execution_count": 4,
   "metadata": {},
   "outputs": [],
   "source": [
    "# Read image and directory (image category)\n",
    "\n",
    "def read_image(dir_path):\n",
    "    \"\"\"\n",
    "    TBD iterator\n",
    "    \"\"\"\n",
    "    \n",
    "    for subdir, dirs, files in os.walk(dir_path):\n",
    "        for file in files:\n",
    "            # Ignore useless files.\n",
    "            if file != \".DS_Store\":\n",
    "                yield (cv2.imread(os.path.join(subdir, file)),\n",
    "                       os.path.basename(subdir))\n",
    "                \n",
    "\n",
    "def compute_descriptors(dir_path):\n",
    "    \"\"\"\n",
    "    TBD, note on ORB instead of SIFT/SURF\n",
    "    \"\"\"\n",
    "    \n",
    "    # Lists to contain data.\n",
    "    image_ids = []\n",
    "    descriptors = []\n",
    "    labels = []\n",
    "    \n",
    "    # Build ORB object.\n",
    "    orb = cv2.xfeatures2d.SIFT_create()\n",
    "    \n",
    "    image_id = 0\n",
    "    \n",
    "    for image, label in read_image(dir_path):\n",
    "        # Detect and compute keypoints.\n",
    "        kp, des = orb.detectAndCompute(image, None)\n",
    "        # If no keypoints detected, continue.\n",
    "        if kp == []:\n",
    "            continue\n",
    "        for d in range(len(des)):\n",
    "            descriptors.append(des[d])\n",
    "            image_ids.append(image_id)\n",
    "            labels.append(label)\n",
    "            \n",
    "        image_id += 1\n",
    "            \n",
    "    des_df = pd.DataFrame(columns = ['image_id', 'descriptor', 'label'])\n",
    "    des_df['image_id'] = image_ids\n",
    "    des_df['descriptor'] = descriptors\n",
    "    des_df['label'] = labels\n",
    "    \n",
    "    \n",
    "    return des_df"
   ]
  },
  {
   "cell_type": "markdown",
   "metadata": {},
   "source": [
    "# Kmeans and historgams"
   ]
  },
  {
   "cell_type": "code",
   "execution_count": 5,
   "metadata": {},
   "outputs": [],
   "source": [
    "def k_means_words(descriptors_df, n_clusters, num_descriptors):\n",
    "    \"\"\"\n",
    "    TBD\n",
    "    \"\"\"\n",
    "    \n",
    "    # Sample `num_descriptors` descriptors.\n",
    "    data = descriptors_df['descriptor'].sample(n = num_descriptors).tolist()\n",
    "    # Compute the kmeans algorithm on the sampled descriptors.\n",
    "    kmeans = KMeans(n_clusters = n_clusters, n_jobs = -1).fit(data)\n",
    "    return kmeans"
   ]
  },
  {
   "cell_type": "code",
   "execution_count": 6,
   "metadata": {},
   "outputs": [],
   "source": [
    "def find_nearest_term(word, dictionary):\n",
    "    \"\"\"\n",
    "    TBD\n",
    "    \"\"\"\n",
    "    distances = [lin.norm(word - term) for term in dictionary]\n",
    "    \n",
    "    return np.argmin(distances)\n",
    "\n",
    "def compute_histogram(descriptors_df, kmeans):\n",
    "    \"\"\"\n",
    "    TBD\n",
    "    \"\"\"\n",
    "    # Estract visual words (centroids) from kmeans computation.\n",
    "    words = kmeans.cluster_centers_\n",
    "    \n",
    "    descriptor_dim = len(words)\n",
    "    num_images = len(descriptors_df['image_id'])\n",
    "    \n",
    "    histograms = np.zeros((num_images, descriptor_dim))\n",
    "    \n",
    "    # For every image.\n",
    "    for index, row in descriptors_df.iterrows():\n",
    "        # For every descriptor.\n",
    "        for descriptor in row['descriptor']:\n",
    "            closest_centroid = find_nearest_term(descriptor, words)\n",
    "            histograms[index][closest_centroid] += 1\n",
    "            \n",
    "    # Compute norms and normalisation.\n",
    "    norm = np.sum(histograms, axis = 1).reshape(num_images, 1)\n",
    "    histograms = histograms / norm\n",
    "    \n",
    "    # More convenient format as list of arrays.\n",
    "    histograms = list(histograms[row] for row in range(len(histograms)))\n",
    "    \n",
    "    return histograms"
   ]
  },
  {
   "cell_type": "markdown",
   "metadata": {},
   "source": [
    "# Classifiers"
   ]
  },
  {
   "cell_type": "code",
   "execution_count": 7,
   "metadata": {},
   "outputs": [],
   "source": [
    "from scipy.stats import wasserstein_distance\n",
    "\n",
    "def nn_classifier(train_df, test_df):\n",
    "    true_labels = test_df['label']\n",
    "    predicted_labels = []\n",
    "    \n",
    "    # For each test image.\n",
    "    for test_index, test_row in test_df.iterrows():\n",
    "        distances = []\n",
    "        # Compute distance with each train image.\n",
    "        for train_index, train_row in train_df.iterrows():\n",
    "            distances.append(wasserstein_distance(train_row['histogram'],\n",
    "                                                  test_row['histogram']))\n",
    "        # The predicted label corresponds to the minimum distance.\n",
    "        predicted_labels.append(train_df.iloc[np.argmin(distances)]['label'])\n",
    "        \n",
    "    return true_labels, predicted_labels"
   ]
  },
  {
   "cell_type": "code",
   "execution_count": null,
   "metadata": {},
   "outputs": [],
   "source": [
    "from sklearn.svm import SVC\n",
    "\n",
    "def linear_SVM_classifier(train_df, test_df):\n",
    "    \n",
    "    true_labels = test_df['label']\n",
    "    predicted_labels = []\n",
    "    \n",
    "    # Training multiclass SVM, one-vs-rest approach.\n",
    "    \n",
    "    # Extract labels.\n",
    "    train_labels = train_df['label'].to_numpy()\n",
    "    classes = train_df['label'].unique()\n",
    "\n",
    "    # Extract histograms, (n_samples, n_feature) numpy array.\n",
    "    histo = np.asarray(train_df['histogram'].tolist())\n",
    "\n",
    "    # Build a classifier for each class.\n",
    "    clf = [SVC(kernel = 'linear') for _ in range(len(classes))]\n",
    "\n",
    "    # Fit each of the classifiers.\n",
    "    for idx, c in enumerate(clf):\n",
    "        current_label = classes[idx]\n",
    "        # 1 for current_label occurrences, -1 elsewhere.\n",
    "        target = np.array([\"1\" if  label == current_label else \"-1\" for label in train_labels])\n",
    "        c = c.fit(histo, target)\n",
    "        \n",
    "    # Predicting label for each test image.\n",
    "    \n",
    "    for test_index, test_row in test_df.iterrows():\n",
    "        distances = []\n",
    "        # Compute real valued score with each classifier.\n",
    "        for idx, c in enumerate(clf):\n",
    "            # Compute distances from hyperplanes\n",
    "            distances.append(c.decision_function(test_row['histogram'].reshape(1, -1) / \n",
    "                                                 lin.norm(c.coef_)))\n",
    "        # The predicted label corresponds to the maximum distance from hyperplane.\n",
    "        predicted_labels.append(classes[np.argmax(distances)])\n",
    "    \n",
    "    \n",
    "    return true_labels, predicted_labels"
   ]
  },
  {
   "cell_type": "markdown",
   "metadata": {},
   "source": [
    "# Main"
   ]
  },
  {
   "cell_type": "code",
   "execution_count": 8,
   "metadata": {},
   "outputs": [
    {
     "name": "stdout",
     "output_type": "stream",
     "text": [
      "Executed 'Compute descriptors'.  Elapsed time: 46.490912s\n"
     ]
    }
   ],
   "source": [
    "train_path = \"./dataset/train\"\n",
    "test_path = \"./dataset/test\"\n",
    "\n",
    "n_clusters = 25 # Size of dictionary.\n",
    "n_descriptors = 100000\n",
    "\n",
    "# Read images and compute descriptors, saving them in a dataframe.\n",
    "with codeTimer(\"Compute descriptors\"):\n",
    "    train_df = compute_descriptors(train_path)"
   ]
  },
  {
   "cell_type": "code",
   "execution_count": 9,
   "metadata": {},
   "outputs": [
    {
     "data": {
      "text/html": [
       "<div>\n",
       "<style scoped>\n",
       "    .dataframe tbody tr th:only-of-type {\n",
       "        vertical-align: middle;\n",
       "    }\n",
       "\n",
       "    .dataframe tbody tr th {\n",
       "        vertical-align: top;\n",
       "    }\n",
       "\n",
       "    .dataframe thead th {\n",
       "        text-align: right;\n",
       "    }\n",
       "</style>\n",
       "<table border=\"1\" class=\"dataframe\">\n",
       "  <thead>\n",
       "    <tr style=\"text-align: right;\">\n",
       "      <th></th>\n",
       "      <th>image_id</th>\n",
       "      <th>descriptor</th>\n",
       "      <th>label</th>\n",
       "    </tr>\n",
       "  </thead>\n",
       "  <tbody>\n",
       "    <tr>\n",
       "      <th>0</th>\n",
       "      <td>0</td>\n",
       "      <td>[1.0, 0.0, 0.0, 0.0, 0.0, 0.0, 0.0, 0.0, 0.0, ...</td>\n",
       "      <td>Industrial</td>\n",
       "    </tr>\n",
       "    <tr>\n",
       "      <th>1</th>\n",
       "      <td>0</td>\n",
       "      <td>[0.0, 0.0, 0.0, 0.0, 0.0, 0.0, 0.0, 0.0, 0.0, ...</td>\n",
       "      <td>Industrial</td>\n",
       "    </tr>\n",
       "    <tr>\n",
       "      <th>2</th>\n",
       "      <td>0</td>\n",
       "      <td>[0.0, 0.0, 2.0, 18.0, 7.0, 1.0, 0.0, 0.0, 54.0...</td>\n",
       "      <td>Industrial</td>\n",
       "    </tr>\n",
       "    <tr>\n",
       "      <th>3</th>\n",
       "      <td>0</td>\n",
       "      <td>[0.0, 0.0, 4.0, 8.0, 3.0, 0.0, 0.0, 0.0, 137.0...</td>\n",
       "      <td>Industrial</td>\n",
       "    </tr>\n",
       "    <tr>\n",
       "      <th>4</th>\n",
       "      <td>0</td>\n",
       "      <td>[64.0, 53.0, 0.0, 0.0, 0.0, 0.0, 0.0, 2.0, 153...</td>\n",
       "      <td>Industrial</td>\n",
       "    </tr>\n",
       "  </tbody>\n",
       "</table>\n",
       "</div>"
      ],
      "text/plain": [
       "   image_id                                         descriptor       label\n",
       "0         0  [1.0, 0.0, 0.0, 0.0, 0.0, 0.0, 0.0, 0.0, 0.0, ...  Industrial\n",
       "1         0  [0.0, 0.0, 0.0, 0.0, 0.0, 0.0, 0.0, 0.0, 0.0, ...  Industrial\n",
       "2         0  [0.0, 0.0, 2.0, 18.0, 7.0, 1.0, 0.0, 0.0, 54.0...  Industrial\n",
       "3         0  [0.0, 0.0, 4.0, 8.0, 3.0, 0.0, 0.0, 0.0, 137.0...  Industrial\n",
       "4         0  [64.0, 53.0, 0.0, 0.0, 0.0, 0.0, 0.0, 2.0, 153...  Industrial"
      ]
     },
     "execution_count": 9,
     "metadata": {},
     "output_type": "execute_result"
    }
   ],
   "source": [
    "train_df.head()"
   ]
  },
  {
   "cell_type": "code",
   "execution_count": 10,
   "metadata": {},
   "outputs": [
    {
     "name": "stdout",
     "output_type": "stream",
     "text": [
      "Executed 'Compute k-means words'.  Elapsed time: 75.425109s\n"
     ]
    }
   ],
   "source": [
    "# Compute kmeans clustering using descriptors\n",
    "# Note: cluster centers are stored in this object,\n",
    "# and can be obtained using `kmeans.cluster_centers_`.\n",
    "with codeTimer(\"Compute k-means words\"):\n",
    "    kmeans = k_means_words(train_df, n_clusters, n_descriptors)"
   ]
  },
  {
   "cell_type": "code",
   "execution_count": 11,
   "metadata": {},
   "outputs": [],
   "source": [
    "# Aggregate descriptor info, making dataframe more compact.\n",
    "# Now the third column contains the list of descriptors.\n",
    "train_df = train_df.groupby(['image_id', 'label'],\n",
    "                            as_index = False).agg({'descriptor':\n",
    "                                                   (lambda x: list(x))})"
   ]
  },
  {
   "cell_type": "code",
   "execution_count": 12,
   "metadata": {},
   "outputs": [
    {
     "name": "stdout",
     "output_type": "stream",
     "text": [
      "Executed 'Compute histograms'.  Elapsed time: 156.569561s\n"
     ]
    }
   ],
   "source": [
    "# Compute histograms and add them to dataframe.\n",
    "with codeTimer(\"Compute histograms\"):\n",
    "    train_histograms = compute_histogram(train_df, kmeans)\n",
    "    \n",
    "train_df['histogram'] = train_histograms"
   ]
  },
  {
   "cell_type": "code",
   "execution_count": 13,
   "metadata": {},
   "outputs": [],
   "source": [
    "# Compute histograms for test set, using words extracted from train.\n",
    "\n",
    "test_df = compute_descriptors(test_path)\n",
    "\n",
    "test_df = test_df.groupby(['image_id', 'label'],\n",
    "                            as_index = False).agg({'descriptor':\n",
    "                                                   (lambda x: list(x))})\n",
    "\n",
    "# Note, kmeans has not been recomputed, the training one is used.\n",
    "test_histograms = compute_histogram(test_df, kmeans)\n",
    "test_df['histogram'] = test_histograms"
   ]
  },
  {
   "cell_type": "code",
   "execution_count": 14,
   "metadata": {
    "scrolled": true
   },
   "outputs": [
    {
     "data": {
      "text/html": [
       "<div>\n",
       "<style scoped>\n",
       "    .dataframe tbody tr th:only-of-type {\n",
       "        vertical-align: middle;\n",
       "    }\n",
       "\n",
       "    .dataframe tbody tr th {\n",
       "        vertical-align: top;\n",
       "    }\n",
       "\n",
       "    .dataframe thead th {\n",
       "        text-align: right;\n",
       "    }\n",
       "</style>\n",
       "<table border=\"1\" class=\"dataframe\">\n",
       "  <thead>\n",
       "    <tr style=\"text-align: right;\">\n",
       "      <th></th>\n",
       "      <th>image_id</th>\n",
       "      <th>label</th>\n",
       "      <th>descriptor</th>\n",
       "      <th>histogram</th>\n",
       "    </tr>\n",
       "  </thead>\n",
       "  <tbody>\n",
       "    <tr>\n",
       "      <th>0</th>\n",
       "      <td>0</td>\n",
       "      <td>Industrial</td>\n",
       "      <td>[[6.0, 39.0, 118.0, 87.0, 10.0, 4.0, 2.0, 1.0,...</td>\n",
       "      <td>[0.013927576601671309, 0.05013927576601671, 0....</td>\n",
       "    </tr>\n",
       "    <tr>\n",
       "      <th>1</th>\n",
       "      <td>1</td>\n",
       "      <td>Industrial</td>\n",
       "      <td>[[8.0, 20.0, 9.0, 7.0, 3.0, 1.0, 0.0, 6.0, 36....</td>\n",
       "      <td>[0.01276595744680851, 0.02553191489361702, 0.0...</td>\n",
       "    </tr>\n",
       "    <tr>\n",
       "      <th>2</th>\n",
       "      <td>2</td>\n",
       "      <td>Industrial</td>\n",
       "      <td>[[0.0, 0.0, 0.0, 0.0, 0.0, 0.0, 0.0, 0.0, 0.0,...</td>\n",
       "      <td>[0.036458333333333336, 0.050347222222222224, 0...</td>\n",
       "    </tr>\n",
       "    <tr>\n",
       "      <th>3</th>\n",
       "      <td>3</td>\n",
       "      <td>Industrial</td>\n",
       "      <td>[[1.0, 0.0, 0.0, 0.0, 0.0, 0.0, 0.0, 0.0, 7.0,...</td>\n",
       "      <td>[0.05263157894736842, 0.02631578947368421, 0.0...</td>\n",
       "    </tr>\n",
       "    <tr>\n",
       "      <th>4</th>\n",
       "      <td>4</td>\n",
       "      <td>Industrial</td>\n",
       "      <td>[[1.0, 0.0, 0.0, 0.0, 0.0, 0.0, 0.0, 0.0, 23.0...</td>\n",
       "      <td>[0.051643192488262914, 0.035211267605633804, 0...</td>\n",
       "    </tr>\n",
       "  </tbody>\n",
       "</table>\n",
       "</div>"
      ],
      "text/plain": [
       "   image_id       label                                         descriptor  \\\n",
       "0         0  Industrial  [[6.0, 39.0, 118.0, 87.0, 10.0, 4.0, 2.0, 1.0,...   \n",
       "1         1  Industrial  [[8.0, 20.0, 9.0, 7.0, 3.0, 1.0, 0.0, 6.0, 36....   \n",
       "2         2  Industrial  [[0.0, 0.0, 0.0, 0.0, 0.0, 0.0, 0.0, 0.0, 0.0,...   \n",
       "3         3  Industrial  [[1.0, 0.0, 0.0, 0.0, 0.0, 0.0, 0.0, 0.0, 7.0,...   \n",
       "4         4  Industrial  [[1.0, 0.0, 0.0, 0.0, 0.0, 0.0, 0.0, 0.0, 23.0...   \n",
       "\n",
       "                                           histogram  \n",
       "0  [0.013927576601671309, 0.05013927576601671, 0....  \n",
       "1  [0.01276595744680851, 0.02553191489361702, 0.0...  \n",
       "2  [0.036458333333333336, 0.050347222222222224, 0...  \n",
       "3  [0.05263157894736842, 0.02631578947368421, 0.0...  \n",
       "4  [0.051643192488262914, 0.035211267605633804, 0...  "
      ]
     },
     "execution_count": 14,
     "metadata": {},
     "output_type": "execute_result"
    }
   ],
   "source": [
    "test_df.head()"
   ]
  },
  {
   "cell_type": "markdown",
   "metadata": {},
   "source": [
    "----\n",
    "## NN"
   ]
  },
  {
   "cell_type": "code",
   "execution_count": null,
   "metadata": {},
   "outputs": [],
   "source": [
    "with codeTimer(\"NN classifier\"):\n",
    "    true, predicted = nn_classifier(train_df, test_df)\n",
    "    \n",
    "# Adding predicted lables to dataframe.\n",
    "test_df[\"predicted\"] = predicted"
   ]
  },
  {
   "cell_type": "code",
   "execution_count": null,
   "metadata": {},
   "outputs": [],
   "source": [
    "# Storing results to file\n",
    "#test_df.to_pickle(\"test_frame\")\n",
    "#train_df.to_pickle(\"train_frame\")"
   ]
  },
  {
   "cell_type": "code",
   "execution_count": null,
   "metadata": {},
   "outputs": [],
   "source": [
    "from sklearn.metrics import confusion_matrix\n",
    "import seaborn as sn\n",
    "conmat = confusion_matrix(true, predicted)\n",
    "conmat = conmat / np.sum(conmat, axis = 1)\n",
    "sn.heatmap(conmat)"
   ]
  },
  {
   "cell_type": "code",
   "execution_count": null,
   "metadata": {},
   "outputs": [],
   "source": [
    "np.sum(np.diag(conmat)) / np.sum(conmat)"
   ]
  },
  {
   "cell_type": "markdown",
   "metadata": {},
   "source": [
    "----\n",
    "## SVM"
   ]
  },
  {
   "cell_type": "code",
   "execution_count": 20,
   "metadata": {},
   "outputs": [
    {
     "name": "stdout",
     "output_type": "stream",
     "text": [
      "Executed 'Linear SVM classifier'.  Elapsed time: 6.597790s\n"
     ]
    }
   ],
   "source": [
    "with codeTimer(\"Linear SVM classifier\"):\n",
    "    true, predicted = linear_SVM_classifier(train_df, test_df)\n",
    "    \n",
    "# Adding predicted lables to dataframe.\n",
    "test_df[\"predicted\"] = predicted"
   ]
  },
  {
   "cell_type": "code",
   "execution_count": 25,
   "metadata": {},
   "outputs": [
    {
     "data": {
      "text/plain": [
       "<matplotlib.axes._subplots.AxesSubplot at 0x7f19b8c5c710>"
      ]
     },
     "execution_count": 25,
     "metadata": {},
     "output_type": "execute_result"
    },
    {
     "data": {
      "image/png": "[encoded data removed]",
      "text/plain": [
       "<Figure size 432x288 with 2 Axes>"
      ]
     },
     "metadata": {
      "needs_background": "light"
     },
     "output_type": "display_data"
    }
   ],
   "source": [
    "from sklearn.metrics import confusion_matrix\n",
    "import seaborn as sn\n",
    "conmat = confusion_matrix(true, predicted)\n",
    "conmat = conmat / np.sum(conmat, axis = 1)\n",
    "sn.heatmap(conmat)"
   ]
  },
  {
   "cell_type": "code",
   "execution_count": 26,
   "metadata": {
    "scrolled": true
   },
   "outputs": [
    {
     "data": {
      "text/plain": [
       "0.21397181033147109"
      ]
     },
     "execution_count": 26,
     "metadata": {},
     "output_type": "execute_result"
    }
   ],
   "source": [
    "np.sum(np.diag(conmat)) / np.sum(conmat)"
   ]
  },
  {
   "cell_type": "markdown",
   "metadata": {},
   "source": [
    "----\n",
    "## OTHER"
   ]
  },
  {
   "cell_type": "code",
   "execution_count": null,
   "metadata": {},
   "outputs": [],
   "source": [
    "img = cv2.imread(\"./dataset/train/Coast/image_0231.jpg\")\n",
    "orb = cv2.xfeatures2d.SIFT_create()\n",
    "kp = orb.detect(img,None)\n",
    "kp, des = orb.compute(img, kp)\n",
    "img2 = cv2.drawKeypoints(img,kp,img)\n",
    "plt.imshow(img2),plt.show()"
   ]
  },
  {
   "cell_type": "code",
   "execution_count": null,
   "metadata": {},
   "outputs": [],
   "source": [
    "len(des)"
   ]
  },
  {
   "cell_type": "code",
   "execution_count": null,
   "metadata": {},
   "outputs": [],
   "source": [
    "des"
   ]
  },
  {
   "cell_type": "code",
   "execution_count": null,
   "metadata": {},
   "outputs": [],
   "source": []
  }
 ],
 "metadata": {
  "kernelspec": {
   "display_name": "Python 3",
   "language": "python",
   "name": "python3"
  },
  "language_info": {
   "codemirror_mode": {
    "name": "ipython",
    "version": 3
   },
   "file_extension": ".py",
   "mimetype": "text/x-python",
   "name": "python",
   "nbconvert_exporter": "python",
   "pygments_lexer": "ipython3",
   "version": "3.7.4"
  }
 },
 "nbformat": 4,
 "nbformat_minor": 4
}
