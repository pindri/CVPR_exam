{
 "cells": [
  {
   "cell_type": "code",
   "execution_count": 2,
   "metadata": {},
   "outputs": [],
   "source": [
    "# Adds SIFT and SURF functionalities.\n",
    "import sys\n",
    "sys.path.append(\"/usr/local/lib/python3.7/site-packages/\")"
   ]
  },
  {
   "cell_type": "code",
   "execution_count": 3,
   "metadata": {
    "scrolled": false
   },
   "outputs": [],
   "source": [
    "from pathlib import Path\n",
    "import os\n",
    "import pandas as pd\n",
    "import cv2\n",
    "from sklearn.cluster import KMeans\n",
    "import matplotlib.pyplot as plt\n",
    "import numpy as np\n",
    "import numpy.linalg as lin"
   ]
  },
  {
   "cell_type": "markdown",
   "metadata": {},
   "source": [
    "# Utilities"
   ]
  },
  {
   "cell_type": "code",
   "execution_count": 4,
   "metadata": {},
   "outputs": [],
   "source": [
    "import time\n",
    "\n",
    "class codeTimer:\n",
    "    \"\"\"\n",
    "    Context manager, measures and prints the execution time of a function.\n",
    "    \"\"\"\n",
    "    \n",
    "    def __init__(self, name=None):\n",
    "        self.name = \"Executed '\"  + name + \"'. \" if name else \"\"\n",
    "\n",
    "    def __enter__(self):\n",
    "        self.start = time.perf_counter()\n",
    "\n",
    "    def __exit__(self, exc_type, exc_value, traceback):\n",
    "        self.end = time.perf_counter()\n",
    "        self.elapsed = (self.end - self.start)\n",
    "        print('%s Elapsed time: %0.6fs' % (str(self.name), self.elapsed))"
   ]
  },
  {
   "cell_type": "markdown",
   "metadata": {},
   "source": [
    "# Read and compute descriptors"
   ]
  },
  {
   "cell_type": "code",
   "execution_count": 5,
   "metadata": {},
   "outputs": [],
   "source": [
    "# Read image and directory (image category)\n",
    "\n",
    "def read_image(dir_path):\n",
    "    \"\"\"\n",
    "    TBD iterator\n",
    "    \"\"\"\n",
    "    \n",
    "    for subdir, dirs, files in os.walk(dir_path):\n",
    "        for file in files:\n",
    "            # Ignore useless files.\n",
    "            if file != \".DS_Store\":\n",
    "                yield (os.path.join(subdir, file),\n",
    "                       os.path.basename(subdir))\n",
    "                \n",
    "\n",
    "def compute_descriptors(dir_path):\n",
    "    \"\"\"\n",
    "    TBD, note on ORB instead of SIFT/SURF\n",
    "    \"\"\"\n",
    "    \n",
    "    # Lists to contain data.\n",
    "    image_ids = []\n",
    "    descriptors = []\n",
    "    labels = []\n",
    "    \n",
    "    #images_names = []\n",
    "    \n",
    "    # Build SIFT object.\n",
    "    orb = cv2.xfeatures2d.SIFT_create()\n",
    "    \n",
    "    image_id = 0\n",
    "    \n",
    "    for image, label in read_image(dir_path):\n",
    "        # Detect and compute keypoints and descriptors.\n",
    "        kp, des = orb.detectAndCompute(cv2.imread(image), None)\n",
    "        # If no keypoints detected, continue.\n",
    "        if kp == []:\n",
    "            continue\n",
    "        for d in range(len(des)):\n",
    "            descriptors.append(des[d])\n",
    "            image_ids.append(image_id)\n",
    "            labels.append(label)\n",
    "            #images_names.append(image)\n",
    "            \n",
    "        image_id += 1\n",
    "            \n",
    "    des_df = pd.DataFrame(columns = ['image_id', 'descriptor', 'label'])\n",
    "    des_df['image_id'] = image_ids\n",
    "    des_df['descriptor'] = descriptors\n",
    "    des_df['label'] = labels\n",
    "    \n",
    "    #des_df['names'] = images_names\n",
    "    \n",
    "    \n",
    "    return des_df"
   ]
  },
  {
   "cell_type": "markdown",
   "metadata": {},
   "source": [
    "# Kmeans and historgams"
   ]
  },
  {
   "cell_type": "code",
   "execution_count": 6,
   "metadata": {},
   "outputs": [],
   "source": [
    "def k_means_words(descriptors_df, n_clusters, num_descriptors):\n",
    "    \"\"\"\n",
    "    TBD\n",
    "    \"\"\"\n",
    "    \n",
    "    # Sample `num_descriptors` descriptors.\n",
    "    data = descriptors_df['descriptor'].sample(n = num_descriptors).tolist()\n",
    "    print(\"Number of sampled descriptors: {}\".format(len(data)))\n",
    "    # Compute the kmeans algorithm on the sampled descriptors.\n",
    "    kmeans = KMeans(n_clusters = n_clusters, n_jobs = -1).fit(data)\n",
    "    print(\"Clustered the descriptors in {} clusters\".format(kmeans.n_clusters))\n",
    "    return kmeans"
   ]
  },
  {
   "cell_type": "code",
   "execution_count": 7,
   "metadata": {},
   "outputs": [],
   "source": [
    "def find_nearest_term(descriptor, dictionary):\n",
    "    \"\"\"\n",
    "    TBD\n",
    "    \"\"\"\n",
    "    distances = [lin.norm(descriptor - term) for term in dictionary]\n",
    "    \n",
    "    return np.argmin(distances)\n",
    "\n",
    "def compute_histogram(descriptors_df, kmeans):\n",
    "    \"\"\"\n",
    "    TBD\n",
    "    \"\"\"\n",
    "    # Estract visual words (centroids) from kmeans computation.\n",
    "    dictionary = kmeans.cluster_centers_\n",
    "    \n",
    "    num_images = len(descriptors_df['image_id'])\n",
    "    histograms = np.zeros((num_images, len(dictionary)))\n",
    "    \n",
    "    # For every image.\n",
    "    for index, row in descriptors_df.iterrows():\n",
    "        # For every descriptor.\n",
    "        for descriptor in row['descriptor']:\n",
    "            closest_centroid = find_nearest_term(descriptor, dictionary)\n",
    "            histograms[index][closest_centroid] += 1\n",
    "            \n",
    "    # Compute norms and normalisation.\n",
    "    norm = np.sum(histograms, axis = 1).reshape(num_images, 1)\n",
    "    histograms = histograms / norm\n",
    "    \n",
    "    # More convenient format as list of arrays.\n",
    "    histograms = list(histograms[row] for row in range(len(histograms)))\n",
    "    \n",
    "    return histograms"
   ]
  },
  {
   "cell_type": "markdown",
   "metadata": {},
   "source": [
    "# Classifiers"
   ]
  },
  {
   "cell_type": "code",
   "execution_count": 8,
   "metadata": {},
   "outputs": [],
   "source": [
    "from scipy.stats import wasserstein_distance\n",
    "\n",
    "def nn_classifier(train_df, test_df):\n",
    "    true_labels = test_df['label']\n",
    "    predicted_labels = []\n",
    "    \n",
    "    # For each test image.\n",
    "    for test_index, test_row in test_df.iterrows():\n",
    "        distances = []\n",
    "        # Compute distance with each train image.\n",
    "        for train_index, train_row in train_df.iterrows():\n",
    "            distances.append(wasserstein_distance(train_row['histogram'],\n",
    "                                                  test_row['histogram']))\n",
    "        # The predicted label corresponds to the minimum distance.\n",
    "        predicted_labels.append(train_df.iloc[np.argmin(distances)]['label'])\n",
    "        \n",
    "    return true_labels, predicted_labels"
   ]
  },
  {
   "cell_type": "code",
   "execution_count": 9,
   "metadata": {},
   "outputs": [],
   "source": [
    "from sklearn.svm import SVC\n",
    "\n",
    "def linear_SVM_classifier(train_df, test_df):\n",
    "    \n",
    "    true_labels = test_df['label']\n",
    "    predicted_labels = []\n",
    "    \n",
    "    # Training multiclass SVM, one-vs-rest approach.\n",
    "    \n",
    "    # Extract labels.\n",
    "    train_labels = train_df['label'].to_numpy()\n",
    "    classes = train_df['label'].unique()\n",
    "\n",
    "    # Extract histograms, (n_samples, n_feature) numpy array.\n",
    "    histo = np.asarray(train_df['histogram'].tolist())\n",
    "\n",
    "    # Build a classifier for each class.\n",
    "    clf = [SVC(kernel = 'linear') for _ in range(len(classes))]\n",
    "\n",
    "    # Fit each of the classifiers.\n",
    "    for idx, c in enumerate(clf):\n",
    "        current_label = classes[idx]\n",
    "        # 1 for current_label occurrences, -1 elsewhere.\n",
    "        target = np.array([\"1\" if  label == current_label else \"-1\" for label in train_labels])\n",
    "        c = c.fit(histo, target)\n",
    "        \n",
    "    # Predicting label for each test image.\n",
    "    \n",
    "    for test_index, test_row in test_df.iterrows():\n",
    "        distances = []\n",
    "        # Compute real valued score with each classifier.\n",
    "        for idx, c in enumerate(clf):\n",
    "            # Compute distances from hyperplanes\n",
    "            distances.append(c.decision_function(test_row['histogram'].reshape(1, -1) / \n",
    "                                                 lin.norm(c.coef_)))\n",
    "        # The predicted label corresponds to the maximum distance from hyperplane.\n",
    "        predicted_labels.append(classes[np.argmax(distances)])\n",
    "    \n",
    "    \n",
    "    return true_labels, predicted_labels"
   ]
  },
  {
   "cell_type": "code",
   "execution_count": 49,
   "metadata": {},
   "outputs": [],
   "source": [
    "def chi_2_distance(hist_1, hist_2):\n",
    "    # Note, not using the cv2 formula since it is not really a distance.\n",
    "    n_bins = len(hist_1)\n",
    "    \n",
    "    non_zero = [index for index in range(n_bins)\n",
    "                if (hist_1[index] != 0 and hist_2[index] != 0)]\n",
    "    \n",
    "    distance = 0.5 * np.sum((hist_1[non_zero] - hist_2[non_zero])**2 /\n",
    "                            (hist_1[non_zero] + hist_2[non_zero]))\n",
    "    \n",
    "    return distance"
   ]
  },
  {
   "cell_type": "code",
   "execution_count": 62,
   "metadata": {},
   "outputs": [],
   "source": [
    "def gaussian_kernel(hist_1, hist_2, dist_function, sigma = 0.1):\n",
    "    distance = dist_function(hist_1, hist_2)\n",
    "    return np.exp( - distance / (2 * sigma ** 2 ))"
   ]
  },
  {
   "cell_type": "code",
   "execution_count": 119,
   "metadata": {},
   "outputs": [],
   "source": [
    "def gram_matrix(histograms_1, histograms_2,\n",
    "                kernel_function = gaussian_kernel,\n",
    "                dist_function = chi_2_distance):\n",
    "    \n",
    "    gram = np.zeros((histograms_1.shape[0], histograms_2.shape[0]))\n",
    "    \n",
    "    for i, h_1 in enumerate(histograms_1):\n",
    "        for j, h_2 in enumerate(histograms_2):\n",
    "            elem = kernel_function(h_1, h_2, dist_function)\n",
    "            gram[i, j] = elem\n",
    "    \n",
    "    return gram"
   ]
  },
  {
   "cell_type": "code",
   "execution_count": 131,
   "metadata": {},
   "outputs": [],
   "source": [
    "from sklearn.multiclass import OneVsRestClassifier\n",
    "\n",
    "def gaussian_SVM_classifier(train_df, test_df, kernel_function = gaussian_kernel,\n",
    "                            dist_function = chi_2_distance):\n",
    "    \n",
    "    \n",
    "    true_labels = test_df['label']\n",
    "    predicted_labels = []\n",
    "    \n",
    "    # Training multiclass SVM, one-vs-rest approach.\n",
    "    \n",
    "    # Extract labels and histograms.\n",
    "    train_labels = train_df['label'].to_numpy()\n",
    "    classes = train_df['label'].unique()\n",
    "    train_histograms = train_df['histogram']\n",
    "    \n",
    "    # Build classifier.\n",
    "    gram = gram_matrix(train_histograms, train_histograms,\n",
    "                       kernel_function, dist_function)\n",
    "    clf = OneVsRestClassifier(SVC(kernel=\"precomputed\"), n_jobs=-1)\n",
    "    clf.fit(gram, train_labels)\n",
    "    \n",
    "    # Predicting label for each test image.\n",
    "    test_histograms = test_df['histogram']\n",
    "    prediction_gram = gram_matrix(test_histograms, train_histograms,\n",
    "                                  kernel_function, dist_function)\n",
    "    predicted_labels = clf.predict(prediction_gram)\n",
    "    \n",
    "    return true_labels, predicted_labels"
   ]
  },
  {
   "cell_type": "code",
   "execution_count": 105,
   "metadata": {},
   "outputs": [
    {
     "data": {
      "text/plain": [
       "1500"
      ]
     },
     "execution_count": 105,
     "metadata": {},
     "output_type": "execute_result"
    }
   ],
   "source": [
    "len(gram)"
   ]
  },
  {
   "cell_type": "code",
   "execution_count": 106,
   "metadata": {
    "scrolled": true
   },
   "outputs": [
    {
     "data": {
      "text/plain": [
       "OneVsRestClassifier(estimator=SVC(C=1.0, break_ties=False, cache_size=200,\n",
       "                                  class_weight=None, coef0=0.0,\n",
       "                                  decision_function_shape='ovr', degree=3,\n",
       "                                  gamma='scale', kernel='precomputed',\n",
       "                                  max_iter=-1, probability=False,\n",
       "                                  random_state=None, shrinking=True, tol=0.001,\n",
       "                                  verbose=False),\n",
       "                    n_jobs=-1)"
      ]
     },
     "execution_count": 106,
     "metadata": {},
     "output_type": "execute_result"
    }
   ],
   "source": [
    "train_labels = train_df['label'].to_numpy()\n",
    "classes = train_df['label'].unique()\n",
    "clf = OneVsRestClassifier(SVC(kernel=\"precomputed\"), n_jobs=-1)\n",
    "clf.fit(gram, train_labels)"
   ]
  },
  {
   "cell_type": "code",
   "execution_count": 117,
   "metadata": {},
   "outputs": [],
   "source": [
    "test_histograms = test_df['histogram']"
   ]
  },
  {
   "cell_type": "code",
   "execution_count": 121,
   "metadata": {},
   "outputs": [],
   "source": [
    "pred_gram = gram_matrix(hii, test_histograms)"
   ]
  },
  {
   "cell_type": "code",
   "execution_count": 124,
   "metadata": {},
   "outputs": [],
   "source": [
    "predicted_lables = clf.predict(pred_gram.T)"
   ]
  },
  {
   "cell_type": "code",
   "execution_count": 128,
   "metadata": {},
   "outputs": [
    {
     "data": {
      "text/plain": [
       "2985"
      ]
     },
     "execution_count": 128,
     "metadata": {},
     "output_type": "execute_result"
    }
   ],
   "source": [
    "len(predicted_lables)"
   ]
  },
  {
   "cell_type": "code",
   "execution_count": 132,
   "metadata": {},
   "outputs": [],
   "source": [
    "true, predicted = gaussian_SVM_classifier(train_df, test_df)"
   ]
  },
  {
   "cell_type": "code",
   "execution_count": null,
   "metadata": {},
   "outputs": [],
   "source": []
  },
  {
   "cell_type": "code",
   "execution_count": 133,
   "metadata": {},
   "outputs": [
    {
     "data": {
      "text/plain": [
       "<matplotlib.axes._subplots.AxesSubplot at 0x7f81efc5a150>"
      ]
     },
     "execution_count": 133,
     "metadata": {},
     "output_type": "execute_result"
    },
    {
     "data": {
      "image/png": "[encoded data removed]",
      "text/plain": [
       "<Figure size 432x288 with 2 Axes>"
      ]
     },
     "metadata": {
      "needs_background": "light"
     },
     "output_type": "display_data"
    }
   ],
   "source": [
    "conmat = confusion_matrix(true, predicted)\n",
    "conmat = conmat / np.sum(conmat, axis = 1)\n",
    "sn.heatmap(conmat)"
   ]
  },
  {
   "cell_type": "code",
   "execution_count": 134,
   "metadata": {},
   "outputs": [
    {
     "data": {
      "text/plain": [
       "0.45715037346017845"
      ]
     },
     "execution_count": 134,
     "metadata": {},
     "output_type": "execute_result"
    }
   ],
   "source": [
    "np.sum(np.diag(conmat)) / np.sum(conmat)"
   ]
  },
  {
   "cell_type": "code",
   "execution_count": 135,
   "metadata": {},
   "outputs": [
    {
     "data": {
      "image/png": "[encoded data removed]",
      "text/plain": [
       "<Figure size 720x720 with 2 Axes>"
      ]
     },
     "metadata": {
      "needs_background": "light"
     },
     "output_type": "display_data"
    }
   ],
   "source": [
    "plot_confusion_matrix(true, predicted)"
   ]
  },
  {
   "cell_type": "code",
   "execution_count": 94,
   "metadata": {},
   "outputs": [
    {
     "data": {
      "text/plain": [
       "0.213844469313858"
      ]
     },
     "execution_count": 94,
     "metadata": {},
     "output_type": "execute_result"
    }
   ],
   "source": [
    "hist1 = train_df[\"histogram\"][0]\n",
    "hist2 = train_df[\"histogram\"][2]\n",
    "    \n",
    "chi_2_distance(hist1, hist2)"
   ]
  },
  {
   "cell_type": "code",
   "execution_count": 95,
   "metadata": {},
   "outputs": [
    {
     "data": {
      "text/plain": [
       "2.272094286363017e-05"
      ]
     },
     "execution_count": 95,
     "metadata": {},
     "output_type": "execute_result"
    }
   ],
   "source": [
    "gaussian_kernel(hist1, hist2, chi_2_distance)"
   ]
  },
  {
   "cell_type": "code",
   "execution_count": 114,
   "metadata": {},
   "outputs": [],
   "source": [
    "hii = train_df['histogram']\n",
    "gram = gram_matrix(hii, hii, gaussian_kernel, chi_2_distance)"
   ]
  },
  {
   "cell_type": "code",
   "execution_count": 115,
   "metadata": {},
   "outputs": [
    {
     "data": {
      "text/plain": [
       "array([[1.00000000e+00, 5.48962426e-03, 2.27209429e-05, ...,\n",
       "        1.06855279e-05, 3.36100356e-06, 3.86524216e-03],\n",
       "       [5.48962426e-03, 1.00000000e+00, 1.60854697e-04, ...,\n",
       "        2.66623673e-05, 3.42534046e-08, 3.90862323e-03],\n",
       "       [2.27209429e-05, 1.60854697e-04, 1.00000000e+00, ...,\n",
       "        1.58490432e-05, 5.12689695e-06, 1.49887492e-06],\n",
       "       ...,\n",
       "       [1.06855279e-05, 2.66623673e-05, 1.58490432e-05, ...,\n",
       "        1.00000000e+00, 1.14841248e-06, 6.32137626e-04],\n",
       "       [3.36100356e-06, 3.42534046e-08, 5.12689695e-06, ...,\n",
       "        1.14841248e-06, 1.00000000e+00, 3.11180342e-05],\n",
       "       [3.86524216e-03, 3.90862323e-03, 1.49887492e-06, ...,\n",
       "        6.32137626e-04, 3.11180342e-05, 1.00000000e+00]])"
      ]
     },
     "execution_count": 115,
     "metadata": {},
     "output_type": "execute_result"
    }
   ],
   "source": [
    "gram"
   ]
  },
  {
   "cell_type": "code",
   "execution_count": 101,
   "metadata": {},
   "outputs": [
    {
     "data": {
      "text/plain": [
       "array([[1.00000000e+00, 5.48962426e-03, 2.27209429e-05, ...,\n",
       "        1.06855279e-05, 3.36100356e-06, 3.86524216e-03],\n",
       "       [5.48962426e-03, 1.00000000e+00, 1.60854697e-04, ...,\n",
       "        2.66623673e-05, 3.42534046e-08, 3.90862323e-03],\n",
       "       [2.27209429e-05, 1.60854697e-04, 1.00000000e+00, ...,\n",
       "        1.58490432e-05, 5.12689695e-06, 1.49887492e-06],\n",
       "       ...,\n",
       "       [1.06855279e-05, 2.66623673e-05, 1.58490432e-05, ...,\n",
       "        1.00000000e+00, 1.14841248e-06, 6.32137626e-04],\n",
       "       [3.36100356e-06, 3.42534046e-08, 5.12689695e-06, ...,\n",
       "        1.14841248e-06, 1.00000000e+00, 3.11180342e-05],\n",
       "       [3.86524216e-03, 3.90862323e-03, 1.49887492e-06, ...,\n",
       "        6.32137626e-04, 3.11180342e-05, 1.00000000e+00]])"
      ]
     },
     "execution_count": 101,
     "metadata": {},
     "output_type": "execute_result"
    }
   ],
   "source": [
    "gram"
   ]
  },
  {
   "cell_type": "markdown",
   "metadata": {},
   "source": [
    "---"
   ]
  },
  {
   "cell_type": "markdown",
   "metadata": {},
   "source": [
    "# Main"
   ]
  },
  {
   "cell_type": "markdown",
   "metadata": {},
   "source": [
    "Example:"
   ]
  },
  {
   "cell_type": "code",
   "execution_count": 11,
   "metadata": {
    "scrolled": true
   },
   "outputs": [
    {
     "data": {
      "image/png": "[encoded data removed]",
      "text/plain": [
       "<Figure size 432x288 with 1 Axes>"
      ]
     },
     "metadata": {
      "needs_background": "light"
     },
     "output_type": "display_data"
    }
   ],
   "source": [
    "img = cv2.imread(\"./dataset/train/Industrial/image_0151.jpg\")\n",
    "orb = cv2.xfeatures2d.SIFT_create()\n",
    "kp = orb.detect(img,None)\n",
    "kp, des = orb.compute(img, kp)\n",
    "img2 = cv2.drawKeypoints(img,kp,img)\n",
    "_ = plt.imshow(img2),plt.show()"
   ]
  },
  {
   "cell_type": "markdown",
   "metadata": {},
   "source": [
    "### Reading images, computing visual words and histograms"
   ]
  },
  {
   "cell_type": "markdown",
   "metadata": {},
   "source": [
    "Train set:"
   ]
  },
  {
   "cell_type": "code",
   "execution_count": 12,
   "metadata": {},
   "outputs": [
    {
     "name": "stdout",
     "output_type": "stream",
     "text": [
      "Executed 'Compute descriptors'.  Elapsed time: 49.655687s\n",
      "Total number of 128-dimensional descriptors: 762342\n",
      "Number of sampled descriptors: 100000\n",
      "Clustered the descriptors in 50 clusters\n",
      "Executed 'Compute k-means words'.  Elapsed time: 154.486068s\n",
      "Executed 'Compute histograms'.  Elapsed time: 355.616017s\n"
     ]
    }
   ],
   "source": [
    "train_path = \"./dataset/train\"\n",
    "test_path = \"./dataset/test\"\n",
    "\n",
    "n_clusters = 50 # Size of dictionary.\n",
    "n_descriptors = 100000\n",
    "\n",
    "# Read images and compute descriptors, saving them in a dataframe.\n",
    "with codeTimer(\"Compute descriptors\"):\n",
    "    train_df = compute_descriptors(train_path)\n",
    "    \n",
    "print(\"Total number of {}-dimensional descriptors: {}\"\n",
    "      .format(len(train_df['descriptor'][0]), len(train_df)))\n",
    "\n",
    "# Compute kmeans clustering using descriptors to obtain visual dictionary.\n",
    "\n",
    "# Note: cluster centers are stored in this object,\n",
    "# and can be obtained using `kmeans.cluster_centers_`.\n",
    "with codeTimer(\"Compute k-means words\"):\n",
    "    kmeans = k_means_words(train_df, n_clusters, n_descriptors)\n",
    "    \n",
    "# Aggregate descriptor info, making dataframe more compact.\n",
    "# Now the third column contains the list of descriptors.\n",
    "train_df = train_df.groupby(['image_id', 'label'],\n",
    "                            as_index = False).agg({'descriptor':\n",
    "                                                   (lambda x: list(x))})\n",
    "\n",
    "# Compute histograms and add them to dataframe.\n",
    "with codeTimer(\"Compute histograms\"):\n",
    "    train_histograms = compute_histogram(train_df, kmeans)\n",
    "    \n",
    "train_df['histogram'] = train_histograms"
   ]
  },
  {
   "cell_type": "markdown",
   "metadata": {},
   "source": [
    "Test set:"
   ]
  },
  {
   "cell_type": "code",
   "execution_count": 13,
   "metadata": {
    "scrolled": false
   },
   "outputs": [],
   "source": [
    "# Compute histograms for test set, using words extracted from train.\n",
    "\n",
    "test_df = compute_descriptors(test_path)\n",
    "\n",
    "test_df = test_df.groupby(['image_id', 'label'],\n",
    "                            as_index = False).agg({'descriptor':\n",
    "                                                   (lambda x: list(x))})\n",
    "\n",
    "# Note, kmeans has not been recomputed, the training one is used.\n",
    "test_histograms = compute_histogram(test_df, kmeans)\n",
    "test_df['histogram'] = test_histograms"
   ]
  },
  {
   "cell_type": "markdown",
   "metadata": {},
   "source": [
    "----\n",
    "## NN"
   ]
  },
  {
   "cell_type": "code",
   "execution_count": null,
   "metadata": {},
   "outputs": [],
   "source": [
    "with codeTimer(\"NN classifier\"):\n",
    "    true, predicted = nn_classifier(train_df, test_df)\n",
    "    \n",
    "# Adding predicted lables to dataframe.\n",
    "test_df[\"predicted\"] = predicted"
   ]
  },
  {
   "cell_type": "code",
   "execution_count": null,
   "metadata": {},
   "outputs": [],
   "source": [
    "# Storing results to file\n",
    "#test_df.to_pickle(\"test_frame\")\n",
    "#train_df.to_pickle(\"train_frame\")"
   ]
  },
  {
   "cell_type": "code",
   "execution_count": null,
   "metadata": {},
   "outputs": [],
   "source": [
    "from sklearn.metrics import confusion_matrix\n",
    "import seaborn as sn\n",
    "conmat = confusion_matrix(true, predicted)\n",
    "conmat = conmat / np.sum(conmat, axis = 1)\n",
    "sn.heatmap(conmat)"
   ]
  },
  {
   "cell_type": "code",
   "execution_count": null,
   "metadata": {},
   "outputs": [],
   "source": [
    "np.sum(np.diag(conmat)) / np.sum(conmat)"
   ]
  },
  {
   "cell_type": "markdown",
   "metadata": {},
   "source": [
    "----\n",
    "## SVM"
   ]
  },
  {
   "cell_type": "code",
   "execution_count": 14,
   "metadata": {},
   "outputs": [
    {
     "name": "stdout",
     "output_type": "stream",
     "text": [
      "Executed 'Linear SVM classifier'.  Elapsed time: 31.088738s\n"
     ]
    }
   ],
   "source": [
    "with codeTimer(\"Linear SVM classifier\"):\n",
    "    true, predicted = linear_SVM_classifier(train_df, test_df)\n",
    "    \n",
    "# Adding predicted lables to dataframe.\n",
    "test_df[\"predicted\"] = predicted"
   ]
  },
  {
   "cell_type": "code",
   "execution_count": 15,
   "metadata": {},
   "outputs": [],
   "source": [
    "def plot_confusion_matrix(true_labels, predicted_labels):\n",
    "    data = {'True' : true_labels, \"Predicted\" : predicted_labels}\n",
    "    \n",
    "    df = pd.DataFrame(data, columns=['True','Predicted'])\n",
    "    confusion_matrix = pd.crosstab(df['True'], df['Predicted'], rownames=['True'], colnames=['Predicted']) \n",
    "    confusion_matrix = confusion_matrix / np.sum(confusion_matrix, axis = 1)\n",
    "    sn.heatmap(confusion_matrix)"
   ]
  },
  {
   "cell_type": "code",
   "execution_count": 16,
   "metadata": {},
   "outputs": [],
   "source": [
    "def plot_confusion_matrix(true_labels, predicted_labels, title='Confusion matrix', cmap=plt.cm.gray_r):\n",
    "    \n",
    "    data = {'True' : true_labels, \"Predicted\" : predicted_labels}\n",
    "    \n",
    "    df = pd.DataFrame(data, columns=['True','Predicted'])\n",
    "    df_confusion = pd.crosstab(df['True'], df['Predicted'], rownames=['True'], colnames=['Predicted'])     \n",
    "    df_confusion = df_confusion / df_confusion.sum(axis = 1)\n",
    "    \n",
    "    fig, ax = plt.subplots(figsize=(10,10)) \n",
    "    \n",
    "    im = ax.matshow(df_confusion, cmap=cmap) # imshow\n",
    "    ax.set_title(title)\n",
    "    fig.colorbar(im, cmap=cmap)\n",
    "    #tick_marks = np.arange(len(df_confusion.columns))\n",
    "    #ax.set_xticks(tick_marks, df_confusion.columns)\n",
    "    #ax.set_yticks(tick_marks, df_confusion.index)\n",
    "    ax.set_ylabel(df_confusion.index.name)\n",
    "    ax.set_xlabel(df_confusion.columns.name)\n",
    "\n"
   ]
  },
  {
   "cell_type": "code",
   "execution_count": 17,
   "metadata": {
    "scrolled": false
   },
   "outputs": [
    {
     "data": {
      "image/png": "[encoded data removed]",
      "text/plain": [
       "<Figure size 720x720 with 2 Axes>"
      ]
     },
     "metadata": {
      "needs_background": "light"
     },
     "output_type": "display_data"
    }
   ],
   "source": [
    "plot_confusion_matrix(true, predicted)"
   ]
  },
  {
   "cell_type": "code",
   "execution_count": 18,
   "metadata": {
    "scrolled": true
   },
   "outputs": [
    {
     "data": {
      "text/plain": [
       "<matplotlib.axes._subplots.AxesSubplot at 0x7f8188106890>"
      ]
     },
     "execution_count": 18,
     "metadata": {},
     "output_type": "execute_result"
    },
    {
     "data": {
      "image/png": "[encoded data removed]",
      "text/plain": [
       "<Figure size 432x288 with 2 Axes>"
      ]
     },
     "metadata": {
      "needs_background": "light"
     },
     "output_type": "display_data"
    }
   ],
   "source": [
    "from sklearn.metrics import confusion_matrix\n",
    "import seaborn as sn\n",
    "conmat = confusion_matrix(true, predicted)\n",
    "conmat = conmat / np.sum(conmat, axis = 1)\n",
    "sn.heatmap(conmat)"
   ]
  },
  {
   "cell_type": "code",
   "execution_count": 19,
   "metadata": {
    "scrolled": true
   },
   "outputs": [
    {
     "data": {
      "text/plain": [
       "0.32518722652465254"
      ]
     },
     "execution_count": 19,
     "metadata": {},
     "output_type": "execute_result"
    }
   ],
   "source": [
    "np.sum(np.diag(conmat)) / np.sum(conmat)"
   ]
  },
  {
   "cell_type": "code",
   "execution_count": null,
   "metadata": {},
   "outputs": [],
   "source": []
  }
 ],
 "metadata": {
  "kernelspec": {
   "display_name": "Python 3",
   "language": "python",
   "name": "python3"
  },
  "language_info": {
   "codemirror_mode": {
    "name": "ipython",
    "version": 3
   },
   "file_extension": ".py",
   "mimetype": "text/x-python",
   "name": "python",
   "nbconvert_exporter": "python",
   "pygments_lexer": "ipython3",
   "version": "3.7.4"
  }
 },
 "nbformat": 4,
 "nbformat_minor": 4
}
